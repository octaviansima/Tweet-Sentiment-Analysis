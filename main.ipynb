{
 "cells": [
  {
   "cell_type": "markdown",
   "metadata": {},
   "source": [
    "# Sentiment Analysis on the Sentiment140 dataset"
   ]
  },
  {
   "cell_type": "code",
   "execution_count": 1,
   "metadata": {},
   "outputs": [],
   "source": [
    "import numpy as np\n",
    "import pandas as pd\n",
    "from nltk.tokenize import TweetTokenizer\n",
    "from nltk.corpus import stopwords\n",
    "from math import e\n",
    "from tqdm import tqdm_notebook as tqdm\n",
    "# ^ this was used to track progress but commented out for final notebook since it does not save state after the\n",
    "# kernel shuts down"
   ]
  },
  {
   "cell_type": "markdown",
   "metadata": {},
   "source": [
    "### Preprocessing"
   ]
  },
  {
   "cell_type": "markdown",
   "metadata": {},
   "source": [
    "Define the data directory and convert the columns of the DataFrame that we want into a numpy matrix. Note that we replace the '4' label with a '1' in order to use standard one-class classification"
   ]
  },
  {
   "cell_type": "code",
   "execution_count": 2,
   "metadata": {},
   "outputs": [],
   "source": [
    "data_dir = './data/'"
   ]
  },
  {
   "cell_type": "code",
   "execution_count": 3,
   "metadata": {},
   "outputs": [],
   "source": [
    "df = pd.read_csv(data_dir + 'training.1600000.processed.noemoticon.csv', encoding='ISO-8859-1', \\\n",
    "                names=['sentiment', 'id', 'date', 'flag', 'user', 'text'], \\\n",
    "                 dtype={'sentiment': int, 'text': str})\n",
    "df['sentiment'].replace({4:1}, inplace=True)"
   ]
  },
  {
   "cell_type": "code",
   "execution_count": 4,
   "metadata": {},
   "outputs": [],
   "source": [
    "matrix = df[['sentiment', 'text']].values\n",
    "np.random.shuffle(matrix)"
   ]
  },
  {
   "cell_type": "markdown",
   "metadata": {},
   "source": [
    "Tokenize the tweets and remove stop words"
   ]
  },
  {
   "cell_type": "code",
   "execution_count": 5,
   "metadata": {},
   "outputs": [],
   "source": [
    "stopset = set(stopwords.words('english'))\n",
    "tokenizer = TweetTokenizer()\n",
    "\n",
    "for i in range(len(matrix)):\n",
    "    tokens = tokenizer.tokenize(matrix[i][1])\n",
    "    matrix[i][1] = np.array([x for x in tokens if x not in stopset])"
   ]
  },
  {
   "cell_type": "markdown",
   "metadata": {},
   "source": [
    "In order to keep track of the weight index that each unique word corresponds to, we need to store a map from word to index"
   ]
  },
  {
   "cell_type": "code",
   "execution_count": 6,
   "metadata": {},
   "outputs": [],
   "source": [
    "unique = set()\n",
    "words = {}\n",
    "\n",
    "for row in matrix:\n",
    "    for word in row[1]:\n",
    "        unique.add(word)\n",
    "\n",
    "for i, word in enumerate(unique):\n",
    "    words[word] = i"
   ]
  },
  {
   "cell_type": "markdown",
   "metadata": {},
   "source": [
    "### Modeling"
   ]
  },
  {
   "cell_type": "markdown",
   "metadata": {},
   "source": [
    "Split the data into training, validation, and test sets"
   ]
  },
  {
   "cell_type": "code",
   "execution_count": 7,
   "metadata": {},
   "outputs": [],
   "source": [
    "num_samples = len(matrix)\n",
    "training_data = matrix[:int(num_samples * .6)]\n",
    "val_data = matrix[int(num_samples * .6):int(num_samples* .9)]\n",
    "test_data = matrix[int(num_samples * .9):]"
   ]
  },
  {
   "cell_type": "markdown",
   "metadata": {},
   "source": [
    "Define hyperparameters"
   ]
  },
  {
   "cell_type": "code",
   "execution_count": 8,
   "metadata": {},
   "outputs": [],
   "source": [
    "learning_rate = 0.01\n",
    "reg = 0.001\n",
    "epochs = 2"
   ]
  },
  {
   "cell_type": "markdown",
   "metadata": {},
   "source": [
    "Run logistic regression algorithm with ridge regularization on the training set"
   ]
  },
  {
   "cell_type": "code",
   "execution_count": 9,
   "metadata": {},
   "outputs": [],
   "source": [
    "w = np.array([0.0 for _ in unique])\n",
    "b = 0.0\n",
    "#pbar = tqdm(total=epochs * len(training_data))\n",
    "\n",
    "for _ in range(epochs):\n",
    "    np.random.shuffle(training_data)\n",
    "    for row in training_data:\n",
    "        y = row[0]\n",
    "        odds = b\n",
    "        for word in row[1]:\n",
    "            i = words[word]\n",
    "            odds += w[i]\n",
    "        \n",
    "        p = 1 / (1 + e**(-odds))\n",
    "        for word in row[1]:\n",
    "            i = words[word]\n",
    "            w[i] = w[i] - learning_rate * ((p - y) + reg * w[i])\n",
    "        b = b - learning_rate * ((p - y) + reg * b)\n",
    "        #pbar.update(1)"
   ]
  },
  {
   "cell_type": "markdown",
   "metadata": {},
   "source": [
    "### Validation"
   ]
  },
  {
   "cell_type": "markdown",
   "metadata": {},
   "source": [
    "Define a function to test model accuracy and compute confusion matrix for any further analysis. Will be used along with the validation set to find appropriate hyperparameters"
   ]
  },
  {
   "cell_type": "code",
   "execution_count": 10,
   "metadata": {},
   "outputs": [],
   "source": [
    "def calc_conf_matrix(data):\n",
    "    conf = np.array([[0, 0], [0, 0]])\n",
    "    #pbar = tqdm(total=len(val_data))\n",
    "    for row in data:\n",
    "        y = row[0]\n",
    "        odds = b\n",
    "        for word in row[1]:\n",
    "            i = words[word]\n",
    "            odds += w[i]\n",
    "        \n",
    "        y_hat = int(round(1 / (1 + e**(-odds))))\n",
    "        conf[y][y_hat] += 1\n",
    "        #pbar.update(1)\n",
    "    \n",
    "    print('model accuracy was: ' + str((conf[0][0] + conf[1][1]) / len(data)))\n",
    "    return conf"
   ]
  },
  {
   "cell_type": "code",
   "execution_count": 11,
   "metadata": {},
   "outputs": [
    {
     "name": "stdout",
     "output_type": "stream",
     "text": [
      "model accuracy was: 0.7768770833333334\n"
     ]
    }
   ],
   "source": [
    "calc_conf_matrix(val_data);"
   ]
  },
  {
   "cell_type": "markdown",
   "metadata": {},
   "source": [
    "### Testing"
   ]
  },
  {
   "cell_type": "markdown",
   "metadata": {},
   "source": [
    "Run the 'calc_conf_matrix' function once more on the test data. Report the accuracy of the model"
   ]
  },
  {
   "cell_type": "code",
   "execution_count": 12,
   "metadata": {},
   "outputs": [
    {
     "name": "stdout",
     "output_type": "stream",
     "text": [
      "model accuracy was: 0.77898125\n"
     ]
    }
   ],
   "source": [
    "calc_conf_matrix(test_data);"
   ]
  },
  {
   "cell_type": "markdown",
   "metadata": {},
   "source": [
    "Now to report top and bottom 5 words by weight as well as bias:"
   ]
  },
  {
   "cell_type": "code",
   "execution_count": 13,
   "metadata": {},
   "outputs": [
    {
     "name": "stdout",
     "output_type": "stream",
     "text": [
      "the top 5 weighed words were: ['Thanks', 'thank', 'smile', 'Thank', 'welcome']\n",
      "the bottom 5 weighed words were: ['sad', 'Poor', 'Sad', 'unfortunately', 'sadly']\n",
      "the value of the bias is: 0.2183862494586355\n"
     ]
    }
   ],
   "source": [
    "indices = dict((reversed(item) for item in words.items()))\n",
    "k = 5\n",
    "\n",
    "weights = np.copy(w)\n",
    "largest_indices = np.argpartition(weights, -k)[-k:]\n",
    "largest_weights = [indices[index] for index in largest_indices]\n",
    "print('the top 5 weighed words were: ' + str(largest_weights))\n",
    "\n",
    "weights = np.copy(w)\n",
    "smallest_indices = np.argpartition(weights, k)[:k]\n",
    "smallest_weights = [indices[index] for index in smallest_indices]\n",
    "print('the bottom 5 weighed words were: ' + str(smallest_weights))\n",
    "print('the value of the bias is: ' + str(b))"
   ]
  },
  {
   "cell_type": "code",
   "execution_count": null,
   "metadata": {},
   "outputs": [],
   "source": []
  }
 ],
 "metadata": {
  "kernelspec": {
   "display_name": "Python 3",
   "language": "python",
   "name": "python3"
  },
  "language_info": {
   "codemirror_mode": {
    "name": "ipython",
    "version": 3
   },
   "file_extension": ".py",
   "mimetype": "text/x-python",
   "name": "python",
   "nbconvert_exporter": "python",
   "pygments_lexer": "ipython3",
   "version": "3.7.0"
  }
 },
 "nbformat": 4,
 "nbformat_minor": 2
}
